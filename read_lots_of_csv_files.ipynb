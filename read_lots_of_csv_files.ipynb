{
 "cells": [
  {
   "cell_type": "code",
   "execution_count": 93,
   "id": "ecd3876d-cb54-4fad-aee8-54e334f71862",
   "metadata": {},
   "outputs": [],
   "source": [
    "import pandas as pd"
   ]
  },
  {
   "cell_type": "code",
   "execution_count": 95,
   "id": "370aefae-a3d1-4f71-9079-ea06fb3ec257",
   "metadata": {},
   "outputs": [],
   "source": [
    "datafiles = ['1.csv','2.csv','3.csv','4.csv',\n",
    "             '5.csv','6.csv','7.csv','8.csv',\n",
    "             '9.csv','10.csv','11.csv','12.csv','13.csv','14.csv', ]\n",
    "def load_file(datafiles):\n",
    "    for file in datafiles:\n",
    "        yield pd.read_csv(file)\n",
    "   "
   ]
  },
  {
   "cell_type": "code",
   "execution_count": null,
   "id": "d8d8f689-d5de-4a8d-8edb-32c58ea0c8d9",
   "metadata": {},
   "outputs": [],
   "source": []
  },
  {
   "cell_type": "code",
   "execution_count": null,
   "id": "46718a22-9906-4021-acfc-684de3e909aa",
   "metadata": {},
   "outputs": [],
   "source": [
    "\n",
    "    \n",
    "    "
   ]
  },
  {
   "cell_type": "code",
   "execution_count": null,
   "id": "4cba21e1-5f44-4d97-9a48-159a79c872f2",
   "metadata": {},
   "outputs": [],
   "source": []
  },
  {
   "cell_type": "code",
   "execution_count": null,
   "id": "9e345409-4cd1-4d05-ba39-aaab3d644623",
   "metadata": {},
   "outputs": [],
   "source": []
  },
  {
   "cell_type": "code",
   "execution_count": null,
   "id": "07459263-7dd1-4ab0-9613-ab91547b4f5a",
   "metadata": {},
   "outputs": [],
   "source": []
  }
 ],
 "metadata": {
  "kernelspec": {
   "display_name": "Python 3",
   "language": "python",
   "name": "python3"
  },
  "language_info": {
   "codemirror_mode": {
    "name": "ipython",
    "version": 3
   },
   "file_extension": ".py",
   "mimetype": "text/x-python",
   "name": "python",
   "nbconvert_exporter": "python",
   "pygments_lexer": "ipython3",
   "version": "3.8.8"
  }
 },
 "nbformat": 4,
 "nbformat_minor": 5
}
